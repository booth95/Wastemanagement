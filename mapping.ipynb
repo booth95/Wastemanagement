{
  "nbformat": 4,
  "nbformat_minor": 0,
  "metadata": {
    "colab": {
      "provenance": [],
      "authorship_tag": "ABX9TyPs6KOlCZs4HF64BUC/iMlj",
      "include_colab_link": true
    },
    "kernelspec": {
      "name": "python3",
      "display_name": "Python 3"
    },
    "language_info": {
      "name": "python"
    },
    "widgets": {
      "application/vnd.jupyter.widget-state+json": {
        "676f6e13172d41008b5525bfe07c4cf5": {
          "model_module": "jupyter-leaflet",
          "model_name": "LeafletMapModel",
          "model_module_version": "^0.18",
          "state": {
            "_dom_classes": [],
            "_model_module": "jupyter-leaflet",
            "_model_module_version": "^0.18",
            "_model_name": "LeafletMapModel",
            "_view_count": null,
            "_view_module": "jupyter-leaflet",
            "_view_module_version": "^0.18",
            "_view_name": "LeafletMapView",
            "bottom": 73866634,
            "bounce_at_zoom_limits": true,
            "box_zoom": true,
            "center": [
              -17.83,
              30.977999999999998
            ],
            "close_popup_on_click": true,
            "controls": [
              "IPY_MODEL_bd280eb8d8f04378985e223c878da29b",
              "IPY_MODEL_89985c3c22cd4bd0ab9b167c986efdf2",
              "IPY_MODEL_b1c72700dc1247f586df56a041068679",
              "IPY_MODEL_e033175819d84966a151e10cf9675a99",
              "IPY_MODEL_e31f6f5a44314301b4e413ecbb48aa9c",
              "IPY_MODEL_82c918d651e744b48d7a17a99e4488ae",
              "IPY_MODEL_2d4a8be5b7454beba7484c977605431e",
              "IPY_MODEL_263710cd9c15432d9e7712efe13832f8"
            ],
            "crs": {
              "name": "EPSG3857",
              "custom": false
            },
            "default_style": "IPY_MODEL_5b124c24f5554022b17c3b11b0319857",
            "double_click_zoom": true,
            "dragging": true,
            "dragging_style": "IPY_MODEL_210b74df32b347d086dfacd3914ac3ee",
            "east": 30.97988158464432,
            "fullscreen": false,
            "inertia": true,
            "inertia_deceleration": 3000,
            "inertia_max_speed": 1500,
            "interpolation": "bilinear",
            "keyboard": true,
            "keyboard_pan_offset": 80,
            "keyboard_zoom_offset": 1,
            "layers": [
              "IPY_MODEL_4c60f1019d8648228b59b159d0813878",
              "IPY_MODEL_589d3479af67445787475b1064216146",
              "IPY_MODEL_1fe1eb8c103346e19df4bea6e148ed06",
              "IPY_MODEL_fd9ba0e1cf964d5bb534bd0da3ca9e8f"
            ],
            "layout": "IPY_MODEL_d0a750f228ea4032946a7bf04d64f381",
            "left": 78657597,
            "max_zoom": 24,
            "min_zoom": null,
            "modisdate": "2024-05-27",
            "north": -17.829233685886496,
            "options": [
              "bounce_at_zoom_limits",
              "box_zoom",
              "center",
              "close_popup_on_click",
              "double_click_zoom",
              "dragging",
              "fullscreen",
              "inertia",
              "inertia_deceleration",
              "inertia_max_speed",
              "interpolation",
              "keyboard",
              "keyboard_pan_offset",
              "keyboard_zoom_offset",
              "max_zoom",
              "min_zoom",
              "prefer_canvas",
              "scroll_wheel_zoom",
              "tap",
              "tap_tolerance",
              "touch_zoom",
              "world_copy_jump",
              "zoom",
              "zoom_animation_threshold",
              "zoom_delta",
              "zoom_snap"
            ],
            "panes": {},
            "prefer_canvas": false,
            "right": 78659001,
            "scroll_wheel_zoom": true,
            "south": -17.830765714111987,
            "style": "IPY_MODEL_da2ebb19b0994421b59591f213dbf78e",
            "tap": true,
            "tap_tolerance": 15,
            "top": 73866034,
            "touch_zoom": true,
            "west": 30.976115763187412,
            "window_url": "https://82nrfv45wz5-496ff2e9c6d22116-0-colab.googleusercontent.com/outputframe.html?vrz=colab_20240523-060110_RC00_636443439",
            "world_copy_jump": false,
            "zoom": 19,
            "zoom_animation_threshold": 4,
            "zoom_delta": 1,
            "zoom_snap": 1
          }
        },
        "bd280eb8d8f04378985e223c878da29b": {
          "model_module": "jupyter-leaflet",
          "model_name": "LeafletWidgetControlModel",
          "model_module_version": "^0.18",
          "state": {
            "_model_module": "jupyter-leaflet",
            "_model_module_version": "^0.18",
            "_model_name": "LeafletWidgetControlModel",
            "_view_count": null,
            "_view_module": "jupyter-leaflet",
            "_view_module_version": "^0.18",
            "_view_name": "LeafletWidgetControlView",
            "max_height": null,
            "max_width": null,
            "min_height": null,
            "min_width": null,
            "options": [
              "position",
              "transparent_bg"
            ],
            "position": "topleft",
            "transparent_bg": false,
            "widget": "IPY_MODEL_f482e02d8e6343219221405e4a5b6f89"
          }
        },
        "89985c3c22cd4bd0ab9b167c986efdf2": {
          "model_module": "jupyter-leaflet",
          "model_name": "LeafletZoomControlModel",
          "model_module_version": "^0.18",
          "state": {
            "_model_module": "jupyter-leaflet",
            "_model_module_version": "^0.18",
            "_model_name": "LeafletZoomControlModel",
            "_view_count": null,
            "_view_module": "jupyter-leaflet",
            "_view_module_version": "^0.18",
            "_view_name": "LeafletZoomControlView",
            "options": [
              "position",
              "zoom_in_text",
              "zoom_in_title",
              "zoom_out_text",
              "zoom_out_title"
            ],
            "position": "topleft",
            "zoom_in_text": "+",
            "zoom_in_title": "Zoom in",
            "zoom_out_text": "-",
            "zoom_out_title": "Zoom out"
          }
        },
        "b1c72700dc1247f586df56a041068679": {
          "model_module": "jupyter-leaflet",
          "model_name": "LeafletFullScreenControlModel",
          "model_module_version": "^0.18",
          "state": {
            "_model_module": "jupyter-leaflet",
            "_model_module_version": "^0.18",
            "_model_name": "LeafletFullScreenControlModel",
            "_view_count": null,
            "_view_module": "jupyter-leaflet",
            "_view_module_version": "^0.18",
            "_view_name": "LeafletFullScreenControlView",
            "options": [
              "position"
            ],
            "position": "topleft"
          }
        },
        "e033175819d84966a151e10cf9675a99": {
          "model_module": "jupyter-leaflet",
          "model_name": "LeafletDrawControlModel",
          "model_module_version": "^0.18",
          "state": {
            "_model_module": "jupyter-leaflet",
            "_model_module_version": "^0.18",
            "_model_name": "LeafletDrawControlModel",
            "_view_count": null,
            "_view_module": "jupyter-leaflet",
            "_view_module_version": "^0.18",
            "_view_name": "LeafletDrawControlView",
            "circle": {},
            "circlemarker": {},
            "data": [],
            "edit": true,
            "marker": {
              "shapeOptions": {
                "color": "#3388ff"
              }
            },
            "options": [
              "position"
            ],
            "polygon": {
              "shapeOptions": {}
            },
            "polyline": {
              "shapeOptions": {}
            },
            "position": "topleft",
            "rectangle": {
              "shapeOptions": {
                "color": "#3388ff"
              }
            },
            "remove": true
          }
        },
        "e31f6f5a44314301b4e413ecbb48aa9c": {
          "model_module": "jupyter-leaflet",
          "model_name": "LeafletScaleControlModel",
          "model_module_version": "^0.18",
          "state": {
            "_model_module": "jupyter-leaflet",
            "_model_module_version": "^0.18",
            "_model_name": "LeafletScaleControlModel",
            "_view_count": null,
            "_view_module": "jupyter-leaflet",
            "_view_module_version": "^0.18",
            "_view_name": "LeafletScaleControlView",
            "imperial": true,
            "max_width": 100,
            "metric": true,
            "options": [
              "imperial",
              "max_width",
              "metric",
              "position",
              "update_when_idle"
            ],
            "position": "bottomleft",
            "update_when_idle": false
          }
        },
        "82c918d651e744b48d7a17a99e4488ae": {
          "model_module": "jupyter-leaflet",
          "model_name": "LeafletMeasureControlModel",
          "model_module_version": "^0.18",
          "state": {
            "_custom_units": {},
            "_model_module": "jupyter-leaflet",
            "_model_module_version": "^0.18",
            "_model_name": "LeafletMeasureControlModel",
            "_view_count": null,
            "_view_module": "jupyter-leaflet",
            "_view_module_version": "^0.18",
            "_view_name": "LeafletMeasureControlView",
            "active_color": "orange",
            "capture_z_index": 10000,
            "completed_color": "#C8F2BE",
            "options": [
              "active_color",
              "capture_z_index",
              "completed_color",
              "popup_options",
              "position",
              "primary_area_unit",
              "primary_length_unit",
              "secondary_area_unit",
              "secondary_length_unit"
            ],
            "popup_options": {
              "className": "leaflet-measure-resultpopup",
              "autoPanPadding": [
                10,
                10
              ]
            },
            "position": "bottomleft",
            "primary_area_unit": "acres",
            "primary_length_unit": "kilometers",
            "secondary_area_unit": null,
            "secondary_length_unit": null
          }
        },
        "2d4a8be5b7454beba7484c977605431e": {
          "model_module": "jupyter-leaflet",
          "model_name": "LeafletWidgetControlModel",
          "model_module_version": "^0.18",
          "state": {
            "_model_module": "jupyter-leaflet",
            "_model_module_version": "^0.18",
            "_model_name": "LeafletWidgetControlModel",
            "_view_count": null,
            "_view_module": "jupyter-leaflet",
            "_view_module_version": "^0.18",
            "_view_name": "LeafletWidgetControlView",
            "max_height": null,
            "max_width": null,
            "min_height": null,
            "min_width": null,
            "options": [
              "position",
              "transparent_bg"
            ],
            "position": "topright",
            "transparent_bg": false,
            "widget": "IPY_MODEL_01a7b861fc9842ca99d77d41a4e802ec"
          }
        },
        "263710cd9c15432d9e7712efe13832f8": {
          "model_module": "jupyter-leaflet",
          "model_name": "LeafletAttributionControlModel",
          "model_module_version": "^0.18",
          "state": {
            "_model_module": "jupyter-leaflet",
            "_model_module_version": "^0.18",
            "_model_name": "LeafletAttributionControlModel",
            "_view_count": null,
            "_view_module": "jupyter-leaflet",
            "_view_module_version": "^0.18",
            "_view_name": "LeafletAttributionControlView",
            "options": [
              "position",
              "prefix"
            ],
            "position": "bottomright",
            "prefix": "ipyleaflet"
          }
        },
        "5b124c24f5554022b17c3b11b0319857": {
          "model_module": "jupyter-leaflet",
          "model_name": "LeafletMapStyleModel",
          "model_module_version": "^0.18",
          "state": {
            "_model_module": "jupyter-leaflet",
            "_model_module_version": "^0.18",
            "_model_name": "LeafletMapStyleModel",
            "_view_count": null,
            "_view_module": "@jupyter-widgets/base",
            "_view_module_version": "1.2.0",
            "_view_name": "StyleView",
            "cursor": "grab"
          }
        },
        "210b74df32b347d086dfacd3914ac3ee": {
          "model_module": "jupyter-leaflet",
          "model_name": "LeafletMapStyleModel",
          "model_module_version": "^0.18",
          "state": {
            "_model_module": "jupyter-leaflet",
            "_model_module_version": "^0.18",
            "_model_name": "LeafletMapStyleModel",
            "_view_count": null,
            "_view_module": "@jupyter-widgets/base",
            "_view_module_version": "1.2.0",
            "_view_name": "StyleView",
            "cursor": "move"
          }
        },
        "4c60f1019d8648228b59b159d0813878": {
          "model_module": "jupyter-leaflet",
          "model_name": "LeafletTileLayerModel",
          "model_module_version": "^0.18",
          "state": {
            "_model_module": "jupyter-leaflet",
            "_model_module_version": "^0.18",
            "_model_name": "LeafletTileLayerModel",
            "_view_count": null,
            "_view_module": "jupyter-leaflet",
            "_view_module_version": "^0.18",
            "_view_name": "LeafletTileLayerView",
            "attribution": "&copy; <a href=\"https://www.openstreetmap.org/copyright\">OpenStreetMap</a> contributors",
            "base": true,
            "bottom": true,
            "bounds": null,
            "detect_retina": false,
            "loading": false,
            "max_native_zoom": null,
            "max_zoom": 19,
            "min_native_zoom": null,
            "min_zoom": 1,
            "name": "OpenStreetMap.Mapnik",
            "no_wrap": false,
            "opacity": 1,
            "options": [
              "attribution",
              "bounds",
              "detect_retina",
              "max_native_zoom",
              "max_zoom",
              "min_native_zoom",
              "min_zoom",
              "no_wrap",
              "tile_size",
              "tms",
              "zoom_offset"
            ],
            "pane": "",
            "popup": null,
            "popup_max_height": null,
            "popup_max_width": 300,
            "popup_min_width": 50,
            "show_loading": false,
            "subitems": [],
            "tile_size": 256,
            "tms": false,
            "url": "https://tile.openstreetmap.org/{z}/{x}/{y}.png",
            "visible": true,
            "zoom_offset": 0
          }
        },
        "589d3479af67445787475b1064216146": {
          "model_module": "jupyter-leaflet",
          "model_name": "LeafletTileLayerModel",
          "model_module_version": "^0.18",
          "state": {
            "_model_module": "jupyter-leaflet",
            "_model_module_version": "^0.18",
            "_model_name": "LeafletTileLayerModel",
            "_view_count": null,
            "_view_module": "jupyter-leaflet",
            "_view_module_version": "^0.18",
            "_view_name": "LeafletTileLayerView",
            "attribution": "Google Earth Engine",
            "base": false,
            "bottom": true,
            "bounds": null,
            "detect_retina": false,
            "loading": false,
            "max_native_zoom": null,
            "max_zoom": 24,
            "min_native_zoom": null,
            "min_zoom": 0,
            "name": "True Color (432)",
            "no_wrap": false,
            "opacity": 1,
            "options": [
              "attribution",
              "bounds",
              "detect_retina",
              "max_native_zoom",
              "max_zoom",
              "min_native_zoom",
              "min_zoom",
              "no_wrap",
              "tile_size",
              "tms",
              "zoom_offset"
            ],
            "pane": "",
            "popup": null,
            "popup_max_height": null,
            "popup_max_width": 300,
            "popup_min_width": 50,
            "show_loading": false,
            "subitems": [],
            "tile_size": 256,
            "tms": false,
            "url": "https://earthengine.googleapis.com/v1/projects/earthengine-legacy/maps/6f431d1ab8a605c28521d6e697e1e5dc-15db02f32b1c78de70f8639eeb2d8af9/tiles/{z}/{x}/{y}",
            "visible": true,
            "zoom_offset": 0
          }
        },
        "1fe1eb8c103346e19df4bea6e148ed06": {
          "model_module": "jupyter-leaflet",
          "model_name": "LeafletTileLayerModel",
          "model_module_version": "^0.18",
          "state": {
            "_model_module": "jupyter-leaflet",
            "_model_module_version": "^0.18",
            "_model_name": "LeafletTileLayerModel",
            "_view_count": null,
            "_view_module": "jupyter-leaflet",
            "_view_module_version": "^0.18",
            "_view_name": "LeafletTileLayerView",
            "attribution": "Esri",
            "base": false,
            "bottom": true,
            "bounds": null,
            "detect_retina": false,
            "loading": false,
            "max_native_zoom": null,
            "max_zoom": 24,
            "min_native_zoom": null,
            "min_zoom": 0,
            "name": "Esri.WorldImagery",
            "no_wrap": false,
            "opacity": 1,
            "options": [
              "attribution",
              "bounds",
              "detect_retina",
              "max_native_zoom",
              "max_zoom",
              "min_native_zoom",
              "min_zoom",
              "no_wrap",
              "tile_size",
              "tms",
              "zoom_offset"
            ],
            "pane": "",
            "popup": null,
            "popup_max_height": null,
            "popup_max_width": 300,
            "popup_min_width": 50,
            "show_loading": false,
            "subitems": [],
            "tile_size": 256,
            "tms": false,
            "url": "https://server.arcgisonline.com/ArcGIS/rest/services/World_Imagery/MapServer/tile/{z}/{y}/{x}",
            "visible": true,
            "zoom_offset": 0
          }
        },
        "fd9ba0e1cf964d5bb534bd0da3ca9e8f": {
          "model_module": "jupyter-leaflet",
          "model_name": "LeafletTileLayerModel",
          "model_module_version": "^0.18",
          "state": {
            "_model_module": "jupyter-leaflet",
            "_model_module_version": "^0.18",
            "_model_name": "LeafletTileLayerModel",
            "_view_count": null,
            "_view_module": "jupyter-leaflet",
            "_view_module_version": "^0.18",
            "_view_name": "LeafletTileLayerView",
            "attribution": "Google Earth Engine",
            "base": false,
            "bottom": true,
            "bounds": null,
            "detect_retina": false,
            "loading": false,
            "max_native_zoom": null,
            "max_zoom": 24,
            "min_native_zoom": null,
            "min_zoom": 0,
            "name": "Layer 2",
            "no_wrap": false,
            "opacity": 1,
            "options": [
              "attribution",
              "bounds",
              "detect_retina",
              "max_native_zoom",
              "max_zoom",
              "min_native_zoom",
              "min_zoom",
              "no_wrap",
              "tile_size",
              "tms",
              "zoom_offset"
            ],
            "pane": "",
            "popup": null,
            "popup_max_height": null,
            "popup_max_width": 300,
            "popup_min_width": 50,
            "show_loading": false,
            "subitems": [],
            "tile_size": 256,
            "tms": false,
            "url": "https://earthengine.googleapis.com/v1/projects/earthengine-legacy/maps/f8652627c493350688659da7a37d0705-e3df6c2eb217817b7ba96293c5220d5b/tiles/{z}/{x}/{y}",
            "visible": true,
            "zoom_offset": 0
          }
        },
        "d0a750f228ea4032946a7bf04d64f381": {
          "model_module": "@jupyter-widgets/base",
          "model_name": "LayoutModel",
          "model_module_version": "1.2.0",
          "state": {
            "_model_module": "@jupyter-widgets/base",
            "_model_module_version": "1.2.0",
            "_model_name": "LayoutModel",
            "_view_count": null,
            "_view_module": "@jupyter-widgets/base",
            "_view_module_version": "1.2.0",
            "_view_name": "LayoutView",
            "align_content": null,
            "align_items": null,
            "align_self": null,
            "border": null,
            "bottom": null,
            "display": null,
            "flex": null,
            "flex_flow": null,
            "grid_area": null,
            "grid_auto_columns": null,
            "grid_auto_flow": null,
            "grid_auto_rows": null,
            "grid_column": null,
            "grid_gap": null,
            "grid_row": null,
            "grid_template_areas": null,
            "grid_template_columns": null,
            "grid_template_rows": null,
            "height": "600px",
            "justify_content": null,
            "justify_items": null,
            "left": null,
            "margin": null,
            "max_height": null,
            "max_width": null,
            "min_height": null,
            "min_width": null,
            "object_fit": null,
            "object_position": null,
            "order": null,
            "overflow": null,
            "overflow_x": null,
            "overflow_y": null,
            "padding": null,
            "right": null,
            "top": null,
            "visibility": null,
            "width": null
          }
        },
        "da2ebb19b0994421b59591f213dbf78e": {
          "model_module": "jupyter-leaflet",
          "model_name": "LeafletMapStyleModel",
          "model_module_version": "^0.18",
          "state": {
            "_model_module": "jupyter-leaflet",
            "_model_module_version": "^0.18",
            "_model_name": "LeafletMapStyleModel",
            "_view_count": null,
            "_view_module": "@jupyter-widgets/base",
            "_view_module_version": "1.2.0",
            "_view_name": "StyleView",
            "cursor": "grab"
          }
        },
        "f482e02d8e6343219221405e4a5b6f89": {
          "model_module": "@jupyter-widgets/controls",
          "model_name": "HBoxModel",
          "model_module_version": "1.5.0",
          "state": {
            "_dom_classes": [
              "geemap-colab"
            ],
            "_model_module": "@jupyter-widgets/controls",
            "_model_module_version": "1.5.0",
            "_model_name": "HBoxModel",
            "_view_count": null,
            "_view_module": "@jupyter-widgets/controls",
            "_view_module_version": "1.5.0",
            "_view_name": "HBoxView",
            "box_style": "",
            "children": [
              "IPY_MODEL_65d416d3dc124810831e0dae981ba8c2"
            ],
            "layout": "IPY_MODEL_8bf3da91d3df4ffeb69ddb5d1a38bf26"
          }
        },
        "01a7b861fc9842ca99d77d41a4e802ec": {
          "model_module": "@jupyter-widgets/controls",
          "model_name": "VBoxModel",
          "model_module_version": "1.5.0",
          "state": {
            "_dom_classes": [
              "geemap-colab"
            ],
            "_model_module": "@jupyter-widgets/controls",
            "_model_module_version": "1.5.0",
            "_model_name": "VBoxModel",
            "_view_count": null,
            "_view_module": "@jupyter-widgets/controls",
            "_view_module_version": "1.5.0",
            "_view_name": "VBoxView",
            "box_style": "",
            "children": [
              "IPY_MODEL_03043e70b447461c9d68bb0fa7dfc57c"
            ],
            "layout": "IPY_MODEL_e31d0384b34f4dd9afb27f86aebb0079"
          }
        },
        "65d416d3dc124810831e0dae981ba8c2": {
          "model_module": "@jupyter-widgets/controls",
          "model_name": "ToggleButtonModel",
          "model_module_version": "1.5.0",
          "state": {
            "_dom_classes": [],
            "_model_module": "@jupyter-widgets/controls",
            "_model_module_version": "1.5.0",
            "_model_name": "ToggleButtonModel",
            "_view_count": null,
            "_view_module": "@jupyter-widgets/controls",
            "_view_module_version": "1.5.0",
            "_view_name": "ToggleButtonView",
            "button_style": "",
            "description": "",
            "description_tooltip": null,
            "disabled": false,
            "icon": "globe",
            "layout": "IPY_MODEL_0a2481fcb0824b41890502d745c300c6",
            "style": "IPY_MODEL_0ad005841b5d4fffa79be0fb6ebdfb6c",
            "tooltip": "Search location/data",
            "value": false
          }
        },
        "8bf3da91d3df4ffeb69ddb5d1a38bf26": {
          "model_module": "@jupyter-widgets/base",
          "model_name": "LayoutModel",
          "model_module_version": "1.2.0",
          "state": {
            "_model_module": "@jupyter-widgets/base",
            "_model_module_version": "1.2.0",
            "_model_name": "LayoutModel",
            "_view_count": null,
            "_view_module": "@jupyter-widgets/base",
            "_view_module_version": "1.2.0",
            "_view_name": "LayoutView",
            "align_content": null,
            "align_items": null,
            "align_self": null,
            "border": null,
            "bottom": null,
            "display": null,
            "flex": null,
            "flex_flow": null,
            "grid_area": null,
            "grid_auto_columns": null,
            "grid_auto_flow": null,
            "grid_auto_rows": null,
            "grid_column": null,
            "grid_gap": null,
            "grid_row": null,
            "grid_template_areas": null,
            "grid_template_columns": null,
            "grid_template_rows": null,
            "height": null,
            "justify_content": null,
            "justify_items": null,
            "left": null,
            "margin": null,
            "max_height": null,
            "max_width": null,
            "min_height": null,
            "min_width": null,
            "object_fit": null,
            "object_position": null,
            "order": null,
            "overflow": null,
            "overflow_x": null,
            "overflow_y": null,
            "padding": null,
            "right": null,
            "top": null,
            "visibility": null,
            "width": null
          }
        },
        "03043e70b447461c9d68bb0fa7dfc57c": {
          "model_module": "@jupyter-widgets/controls",
          "model_name": "ToggleButtonModel",
          "model_module_version": "1.5.0",
          "state": {
            "_dom_classes": [],
            "_model_module": "@jupyter-widgets/controls",
            "_model_module_version": "1.5.0",
            "_model_name": "ToggleButtonModel",
            "_view_count": null,
            "_view_module": "@jupyter-widgets/controls",
            "_view_module_version": "1.5.0",
            "_view_name": "ToggleButtonView",
            "button_style": "",
            "description": "",
            "description_tooltip": null,
            "disabled": false,
            "icon": "wrench",
            "layout": "IPY_MODEL_a01d3dabbde645a7802e4a4a2280e272",
            "style": "IPY_MODEL_0b875eaf9e504ab3847f267a36535243",
            "tooltip": "Toolbar",
            "value": false
          }
        },
        "e31d0384b34f4dd9afb27f86aebb0079": {
          "model_module": "@jupyter-widgets/base",
          "model_name": "LayoutModel",
          "model_module_version": "1.2.0",
          "state": {
            "_model_module": "@jupyter-widgets/base",
            "_model_module_version": "1.2.0",
            "_model_name": "LayoutModel",
            "_view_count": null,
            "_view_module": "@jupyter-widgets/base",
            "_view_module_version": "1.2.0",
            "_view_name": "LayoutView",
            "align_content": null,
            "align_items": null,
            "align_self": null,
            "border": null,
            "bottom": null,
            "display": null,
            "flex": null,
            "flex_flow": null,
            "grid_area": null,
            "grid_auto_columns": null,
            "grid_auto_flow": null,
            "grid_auto_rows": null,
            "grid_column": null,
            "grid_gap": null,
            "grid_row": null,
            "grid_template_areas": null,
            "grid_template_columns": null,
            "grid_template_rows": null,
            "height": null,
            "justify_content": null,
            "justify_items": null,
            "left": null,
            "margin": null,
            "max_height": null,
            "max_width": null,
            "min_height": null,
            "min_width": null,
            "object_fit": null,
            "object_position": null,
            "order": null,
            "overflow": null,
            "overflow_x": null,
            "overflow_y": null,
            "padding": null,
            "right": null,
            "top": null,
            "visibility": null,
            "width": null
          }
        },
        "0a2481fcb0824b41890502d745c300c6": {
          "model_module": "@jupyter-widgets/base",
          "model_name": "LayoutModel",
          "model_module_version": "1.2.0",
          "state": {
            "_model_module": "@jupyter-widgets/base",
            "_model_module_version": "1.2.0",
            "_model_name": "LayoutModel",
            "_view_count": null,
            "_view_module": "@jupyter-widgets/base",
            "_view_module_version": "1.2.0",
            "_view_name": "LayoutView",
            "align_content": null,
            "align_items": null,
            "align_self": null,
            "border": null,
            "bottom": null,
            "display": null,
            "flex": null,
            "flex_flow": null,
            "grid_area": null,
            "grid_auto_columns": null,
            "grid_auto_flow": null,
            "grid_auto_rows": null,
            "grid_column": null,
            "grid_gap": null,
            "grid_row": null,
            "grid_template_areas": null,
            "grid_template_columns": null,
            "grid_template_rows": null,
            "height": "28px",
            "justify_content": null,
            "justify_items": null,
            "left": null,
            "margin": null,
            "max_height": null,
            "max_width": null,
            "min_height": null,
            "min_width": null,
            "object_fit": null,
            "object_position": null,
            "order": null,
            "overflow": null,
            "overflow_x": null,
            "overflow_y": null,
            "padding": "0px 0px 0px 4px",
            "right": null,
            "top": null,
            "visibility": null,
            "width": "28px"
          }
        },
        "0ad005841b5d4fffa79be0fb6ebdfb6c": {
          "model_module": "@jupyter-widgets/controls",
          "model_name": "DescriptionStyleModel",
          "model_module_version": "1.5.0",
          "state": {
            "_model_module": "@jupyter-widgets/controls",
            "_model_module_version": "1.5.0",
            "_model_name": "DescriptionStyleModel",
            "_view_count": null,
            "_view_module": "@jupyter-widgets/base",
            "_view_module_version": "1.2.0",
            "_view_name": "StyleView",
            "description_width": ""
          }
        },
        "a01d3dabbde645a7802e4a4a2280e272": {
          "model_module": "@jupyter-widgets/base",
          "model_name": "LayoutModel",
          "model_module_version": "1.2.0",
          "state": {
            "_model_module": "@jupyter-widgets/base",
            "_model_module_version": "1.2.0",
            "_model_name": "LayoutModel",
            "_view_count": null,
            "_view_module": "@jupyter-widgets/base",
            "_view_module_version": "1.2.0",
            "_view_name": "LayoutView",
            "align_content": null,
            "align_items": null,
            "align_self": null,
            "border": null,
            "bottom": null,
            "display": null,
            "flex": null,
            "flex_flow": null,
            "grid_area": null,
            "grid_auto_columns": null,
            "grid_auto_flow": null,
            "grid_auto_rows": null,
            "grid_column": null,
            "grid_gap": null,
            "grid_row": null,
            "grid_template_areas": null,
            "grid_template_columns": null,
            "grid_template_rows": null,
            "height": "28px",
            "justify_content": null,
            "justify_items": null,
            "left": null,
            "margin": null,
            "max_height": null,
            "max_width": null,
            "min_height": null,
            "min_width": null,
            "object_fit": null,
            "object_position": null,
            "order": null,
            "overflow": null,
            "overflow_x": null,
            "overflow_y": null,
            "padding": "0px 0px 0px 4px",
            "right": null,
            "top": null,
            "visibility": null,
            "width": "28px"
          }
        },
        "0b875eaf9e504ab3847f267a36535243": {
          "model_module": "@jupyter-widgets/controls",
          "model_name": "DescriptionStyleModel",
          "model_module_version": "1.5.0",
          "state": {
            "_model_module": "@jupyter-widgets/controls",
            "_model_module_version": "1.5.0",
            "_model_name": "DescriptionStyleModel",
            "_view_count": null,
            "_view_module": "@jupyter-widgets/base",
            "_view_module_version": "1.2.0",
            "_view_name": "StyleView",
            "description_width": ""
          }
        }
      }
    }
  },
  "cells": [
    {
      "cell_type": "markdown",
      "metadata": {
        "id": "view-in-github",
        "colab_type": "text"
      },
      "source": [
        "<a href=\"https://colab.research.google.com/github/booth95/Wastemanagement/blob/main/mapping.ipynb\" target=\"_parent\"><img src=\"https://colab.research.google.com/assets/colab-badge.svg\" alt=\"Open In Colab\"/></a>"
      ]
    },
    {
      "cell_type": "code",
      "execution_count": 1,
      "metadata": {
        "id": "8BUUS7AYin8D"
      },
      "outputs": [],
      "source": [
        "import ee\n",
        "import geemap"
      ]
    },
    {
      "cell_type": "code",
      "source": [
        "Map = geemap.Map()\n",
        "Map\n",
        "\n",
        "#Load location data\n",
        "\n",
        "dataset = ee.ImageCollection('LANDSAT/LC09/C02/T1').filterDate('2024-01-01', '2024-01-02');\n",
        "trueColor432 = dataset.select(['B4', 'B3', 'B2']);\n",
        "trueColor432Vis = {\n",
        "  min: 0.0,\n",
        "  max: 30000.0,\n",
        "};\n",
        "#region to export to google drive\n",
        "roi = ee.Geometry.Point(30.978, -17.830);\n",
        "#Map.setCenter(30.978,-17.830, 19);\n",
        "Map.addLayer(trueColor432, trueColor432Vis, 'True Color (432)');\n",
        "Map.add_basemap('Esri.WorldImagery')\n",
        "image = dataset.median()\n",
        "region = ee.Geometry.BBox(30.800, -17.800,30.999, -17.999)\n",
        "fc = ee.FeatureCollection(region)\n",
        "#Map.add_layer(fc.style(**style), {}, 'ROI')\n",
        "Map.add_layer(image)\n",
        "Map.centerObject(roi,19)\n",
        "geemap.ee_export_image_to_drive(image, description='test', folder='export',region=region.getInfo()['coordinates'],scale=100)\n",
        "\n",
        "Map"
      ],
      "metadata": {
        "colab": {
          "base_uri": "https://localhost:8080/",
          "height": 641,
          "referenced_widgets": [
            "676f6e13172d41008b5525bfe07c4cf5",
            "bd280eb8d8f04378985e223c878da29b",
            "89985c3c22cd4bd0ab9b167c986efdf2",
            "b1c72700dc1247f586df56a041068679",
            "e033175819d84966a151e10cf9675a99",
            "e31f6f5a44314301b4e413ecbb48aa9c",
            "82c918d651e744b48d7a17a99e4488ae",
            "2d4a8be5b7454beba7484c977605431e",
            "263710cd9c15432d9e7712efe13832f8",
            "5b124c24f5554022b17c3b11b0319857",
            "210b74df32b347d086dfacd3914ac3ee",
            "4c60f1019d8648228b59b159d0813878",
            "589d3479af67445787475b1064216146",
            "1fe1eb8c103346e19df4bea6e148ed06",
            "fd9ba0e1cf964d5bb534bd0da3ca9e8f",
            "d0a750f228ea4032946a7bf04d64f381",
            "da2ebb19b0994421b59591f213dbf78e",
            "f482e02d8e6343219221405e4a5b6f89",
            "01a7b861fc9842ca99d77d41a4e802ec",
            "65d416d3dc124810831e0dae981ba8c2",
            "8bf3da91d3df4ffeb69ddb5d1a38bf26",
            "03043e70b447461c9d68bb0fa7dfc57c",
            "e31d0384b34f4dd9afb27f86aebb0079",
            "0a2481fcb0824b41890502d745c300c6",
            "0ad005841b5d4fffa79be0fb6ebdfb6c",
            "a01d3dabbde645a7802e4a4a2280e272",
            "0b875eaf9e504ab3847f267a36535243"
          ]
        },
        "id": "1AdyrDeTiqRy",
        "outputId": "bdf2f13f-3546-4d16-c9c7-4a2b22a7f1c3"
      },
      "execution_count": 7,
      "outputs": [
        {
          "output_type": "display_data",
          "data": {
            "text/plain": [
              "<IPython.core.display.HTML object>"
            ],
            "text/html": [
              "\n",
              "            <style>\n",
              "                .geemap-dark {\n",
              "                    --jp-widgets-color: white;\n",
              "                    --jp-widgets-label-color: white;\n",
              "                    --jp-ui-font-color1: white;\n",
              "                    --jp-layout-color2: #454545;\n",
              "                    background-color: #383838;\n",
              "                }\n",
              "\n",
              "                .geemap-dark .jupyter-button {\n",
              "                    --jp-layout-color3: #383838;\n",
              "                }\n",
              "\n",
              "                .geemap-colab {\n",
              "                    background-color: var(--colab-primary-surface-color, white);\n",
              "                }\n",
              "\n",
              "                .geemap-colab .jupyter-button {\n",
              "                    --jp-layout-color3: var(--colab-primary-surface-color, white);\n",
              "                }\n",
              "            </style>\n",
              "            "
            ]
          },
          "metadata": {}
        },
        {
          "output_type": "display_data",
          "data": {
            "text/plain": [
              "Map(center=[-17.83, 30.977999999999998], controls=(WidgetControl(options=['position', 'transparent_bg'], widge…"
            ],
            "application/vnd.jupyter.widget-view+json": {
              "version_major": 2,
              "version_minor": 0,
              "model_id": "676f6e13172d41008b5525bfe07c4cf5"
            }
          },
          "metadata": {
            "application/vnd.jupyter.widget-view+json": {
              "colab": {
                "custom_widget_manager": {
                  "url": "https://ssl.gstatic.com/colaboratory-static/widgets/colab-cdn-widget-manager/2b70e893a8ba7c0f/manager.min.js"
                }
              }
            }
          }
        }
      ]
    },
    {
      "cell_type": "code",
      "source": [
        "# testing exporting a single image to google drive\n",
        "#!pip install geemap --upgrade\n",
        "\n",
        "#!pip install mss\n",
        "\n",
        "import os\n",
        "import geemap\n",
        "m= geemap.Map()\n",
        "\n",
        "landsat8 =ee.Image('LANDSAT/LC08/C01/T1_TOA/LC08_170052_20170108')\\\n",
        ".select('B4','B3','B2')\n",
        "\n",
        "#create region\n",
        "region = ee.Geometry.Rectangle(30.800, -17.800,30.999, -17.999)\n"
      ],
      "metadata": {
        "colab": {
          "base_uri": "https://localhost:8080/",
          "height": 37
        },
        "id": "iDk9ygWviuXa",
        "outputId": "ee0b4652-7c87-49d8-8d60-cb5ce4066072"
      },
      "execution_count": 3,
      "outputs": [
        {
          "output_type": "display_data",
          "data": {
            "text/plain": [
              "<IPython.core.display.HTML object>"
            ],
            "text/html": [
              "\n",
              "            <style>\n",
              "                .geemap-dark {\n",
              "                    --jp-widgets-color: white;\n",
              "                    --jp-widgets-label-color: white;\n",
              "                    --jp-ui-font-color1: white;\n",
              "                    --jp-layout-color2: #454545;\n",
              "                    background-color: #383838;\n",
              "                }\n",
              "\n",
              "                .geemap-dark .jupyter-button {\n",
              "                    --jp-layout-color3: #383838;\n",
              "                }\n",
              "\n",
              "                .geemap-colab {\n",
              "                    background-color: var(--colab-primary-surface-color, white);\n",
              "                }\n",
              "\n",
              "                .geemap-colab .jupyter-button {\n",
              "                    --jp-layout-color3: var(--colab-primary-surface-color, white);\n",
              "                }\n",
              "            </style>\n",
              "            "
            ]
          },
          "metadata": {}
        }
      ]
    },
    {
      "cell_type": "code",
      "source": [
        "#export to drive\n",
        "task = ee.batch.Export.image.toDrive(**{\n",
        "    'image': landsat8,\n",
        "    'description': 'image',\n",
        "    'folder': 'export',\n",
        "    'scale': 30,\n",
        "    'region': region.getInfo()['coordinates']\n",
        "})\n",
        "\n",
        "task.start()"
      ],
      "metadata": {
        "colab": {
          "base_uri": "https://localhost:8080/",
          "height": 37
        },
        "id": "Zt09VYI2i29h",
        "outputId": "e7bbbc54-ff4a-406d-be7b-39a08fdb377e"
      },
      "execution_count": 4,
      "outputs": [
        {
          "output_type": "display_data",
          "data": {
            "text/plain": [
              "<IPython.core.display.HTML object>"
            ],
            "text/html": [
              "\n",
              "            <style>\n",
              "                .geemap-dark {\n",
              "                    --jp-widgets-color: white;\n",
              "                    --jp-widgets-label-color: white;\n",
              "                    --jp-ui-font-color1: white;\n",
              "                    --jp-layout-color2: #454545;\n",
              "                    background-color: #383838;\n",
              "                }\n",
              "\n",
              "                .geemap-dark .jupyter-button {\n",
              "                    --jp-layout-color3: #383838;\n",
              "                }\n",
              "\n",
              "                .geemap-colab {\n",
              "                    background-color: var(--colab-primary-surface-color, white);\n",
              "                }\n",
              "\n",
              "                .geemap-colab .jupyter-button {\n",
              "                    --jp-layout-color3: var(--colab-primary-surface-color, white);\n",
              "                }\n",
              "            </style>\n",
              "            "
            ]
          },
          "metadata": {}
        }
      ]
    }
  ]
}